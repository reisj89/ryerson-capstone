{
 "cells": [
  {
   "cell_type": "markdown",
   "metadata": {},
   "source": [
    "Install Needed Packages in Command Line\n",
    "$ cd “C:\\Users\\JulieR\\AppData\\Local\\Programs\\Python\\Python37-32\\Scripts”\n",
    "$ pip install pymongo\n",
    "$ pip install vaderSentiment\n",
    "$ pip install requests\n",
    "\n",
    "Must have the MongoDB server running with processed data\n",
    "    Database: \"Full\"\n",
    "    Collection: \"Cleaned\""
   ]
  },
  {
   "cell_type": "code",
   "execution_count": null,
   "metadata": {},
   "outputs": [],
   "source": [
    "## Set up pymongo\n",
    "import pymongo\n",
    "from pymongo import MongoClient\n",
    "client = MongoClient('localhost', 27017)\n",
    "db = client.full\n",
    "collection = db.cleaned"
   ]
  },
  {
   "cell_type": "code",
   "execution_count": null,
   "metadata": {},
   "outputs": [],
   "source": [
    "## Clean line breaks (\\n) from the data\n",
    "for doc in collection.find({}):\n",
    "    mongo_id = doc['_id']\n",
    "    new_body = doc['body'].replace('\\n', ' ')\n",
    "    collection.update_one({'_id': mongo_id}, {\"$set\": {'body': new_body}}, upsert=False)"
   ]
  },
  {
   "cell_type": "code",
   "execution_count": null,
   "metadata": {},
   "outputs": [],
   "source": [
    "## Set up Vader Sentiment\n",
    "import vaderSentiment\n",
    "from vaderSentiment.vaderSentiment import SentimentIntensityAnalyzer\n",
    "analyzer = SentimentIntensityAnalyzer()"
   ]
  },
  {
   "cell_type": "code",
   "execution_count": null,
   "metadata": {},
   "outputs": [],
   "source": [
    "## Run Vader Sentiment on all body entries\n",
    "for doc in collection.find({}):\n",
    "    mongo_id = doc['_id']\n",
    "    all_sentiment = analyzer.polarity_scores(doc['body'])\n",
    "    comp_sentiment = all_sentiment['compound']\n",
    "    pos_sentiment = all_sentiment['pos']\n",
    "    neu_sentiment = all_sentiment['neu'] \n",
    "    neg_sentiment = all_sentiment['neg']\n",
    "    collection.update_one({'_id': mongo_id}, {\"$set\": {'compound': comp_sentiment, 'pos': pos_sentiment, 'neu': neu_sentiment, 'neg': neg_sentiment}}, upsert=False)"
   ]
  },
  {
   "cell_type": "code",
   "execution_count": null,
   "metadata": {},
   "outputs": [],
   "source": [
    "## Export for Weka (no body, because the ARFF converter was having a fit with line breaks and commas)\n",
    ">>> with open('CleanedCommentsForWeka.csv', 'w', newline='', encoding='utf-8') as csvfile:\n",
    "    output_writer = csv.writer(csvfile, delimiter=',', quotechar='\"', quoting=csv.QUOTE_MINIMAL)\n",
    "    output_writer.writerow([\"Object_ID\", \"Author\", \"Collapsed\", \"Collapsed_Reason\", \"Controversiality\", \"Created_UTC\", \"Distinguished\", \"Edited\", \"Gilded\", \"ID\", \"Is_Submitter\", \"Score\", \"Subreddit\", \"Pos_Score\", \"Neu_Score\", \"Neg_Score\", \"Compound_Score\"])\n",
    "    for doc in collection.find({}):\n",
    "        output_writer.writerow([doc['_id'], doc['author'], doc['collapsed'], doc['collapsed_reason'], doc['controversiality'], doc['created_utc'], doc['distinguished'], doc['edited'], doc['gilded'], doc['id'], doc['is_submitter'], doc['score'], doc['subreddit'], doc['pos'], doc['neu'], doc['neg'], doc['compound']])"
   ]
  },
  {
   "cell_type": "markdown",
   "metadata": {},
   "source": [
    "Export to CSV in Command Line\n",
    "\n",
    "$ mongoexport --db full  --collection cleaned  --type=csv  --fields _id,author,body,collapsed,collapsed_reason,controversiality,created_utc,distinguished,edited,gilded,id,is_submitter,score,subreddit,compound,pos,neu,neg  --out CleanedSentiment.csv"
   ]
  }
 ],
 "metadata": {
  "kernelspec": {
   "display_name": "Python 3",
   "language": "python",
   "name": "python3"
  },
  "language_info": {
   "codemirror_mode": {
    "name": "ipython",
    "version": 3
   },
   "file_extension": ".py",
   "mimetype": "text/x-python",
   "name": "python",
   "nbconvert_exporter": "python",
   "pygments_lexer": "ipython3",
   "version": "3.7.0"
  }
 },
 "nbformat": 4,
 "nbformat_minor": 2
}
